{
 "cells": [
  {
   "cell_type": "code",
   "execution_count": 3,
   "metadata": {},
   "outputs": [],
   "source": [
    "import numpy as np"
   ]
  },
  {
   "cell_type": "code",
   "execution_count": 4,
   "metadata": {},
   "outputs": [],
   "source": [
    "import pandas as pd\n",
    "import tensorflow"
   ]
  },
  {
   "cell_type": "code",
   "execution_count": 5,
   "metadata": {},
   "outputs": [],
   "source": [
    "df=pd.read_csv(\"sequence_and _sequence_token.csv\")"
   ]
  },
  {
   "cell_type": "code",
   "execution_count": 6,
   "metadata": {},
   "outputs": [
    {
     "data": {
      "text/html": [
       "<div>\n",
       "<style scoped>\n",
       "    .dataframe tbody tr th:only-of-type {\n",
       "        vertical-align: middle;\n",
       "    }\n",
       "\n",
       "    .dataframe tbody tr th {\n",
       "        vertical-align: top;\n",
       "    }\n",
       "\n",
       "    .dataframe thead th {\n",
       "        text-align: right;\n",
       "    }\n",
       "</style>\n",
       "<table border=\"1\" class=\"dataframe\">\n",
       "  <thead>\n",
       "    <tr style=\"text-align: right;\">\n",
       "      <th></th>\n",
       "      <th>Sequence_token</th>\n",
       "      <th>sequence</th>\n",
       "    </tr>\n",
       "  </thead>\n",
       "  <tbody>\n",
       "    <tr>\n",
       "      <td>0</td>\n",
       "      <td>[1]</td>\n",
       "      <td>CGAACTTTAAAATCTGTGTGGCTGTCACTCGGCTGCATGCTTAGTG...</td>\n",
       "    </tr>\n",
       "    <tr>\n",
       "      <td>1</td>\n",
       "      <td>[2]</td>\n",
       "      <td>TAATTACTGTCGTTGACAGGACACGAGTAACTCGTCTATCTTCTGC...</td>\n",
       "    </tr>\n",
       "    <tr>\n",
       "      <td>2</td>\n",
       "      <td>[3]</td>\n",
       "      <td>TTGCAGCCGATCATCAGCACATCTAGGTTTCGTCCGGGTGTGACCG...</td>\n",
       "    </tr>\n",
       "    <tr>\n",
       "      <td>3</td>\n",
       "      <td>[4]</td>\n",
       "      <td>CCTGGTTTCAACGAGAAAACACACGTCCAACTCAGTTTGCCTGTTT...</td>\n",
       "    </tr>\n",
       "    <tr>\n",
       "      <td>4</td>\n",
       "      <td>[5]</td>\n",
       "      <td>GTGGCTTTGGAGACTCCGTGGAGGAGGTCTTATCAGAGGCACGTCA...</td>\n",
       "    </tr>\n",
       "    <tr>\n",
       "      <td>...</td>\n",
       "      <td>...</td>\n",
       "      <td>...</td>\n",
       "    </tr>\n",
       "    <tr>\n",
       "      <td>421</td>\n",
       "      <td>[422]</td>\n",
       "      <td>CAGACCACACAAGGCAGATGGGCTATATAAACGTTTTCGCTTTTCC...</td>\n",
       "    </tr>\n",
       "    <tr>\n",
       "      <td>422</td>\n",
       "      <td>[423]</td>\n",
       "      <td>GTGCAGAATGAATTCTCGTAACTACATAGCACAAGTAGATGTAGTT...</td>\n",
       "    </tr>\n",
       "    <tr>\n",
       "      <td>423</td>\n",
       "      <td>[424]</td>\n",
       "      <td>TTAATCAGTGTGTAACATTAGGGAGGACTTGAAAGAGCCACCACAT...</td>\n",
       "    </tr>\n",
       "    <tr>\n",
       "      <td>424</td>\n",
       "      <td>[425]</td>\n",
       "      <td>GATCGAGTGTACAGTGAACAATGCTAGGGAGAGCTGCCTATATGGA...</td>\n",
       "    </tr>\n",
       "    <tr>\n",
       "      <td>425</td>\n",
       "      <td>[426]</td>\n",
       "      <td>TTTAGTAGTGCTATCCCCATGTGATTTTAATAGCTTCTTAGGAGAA...</td>\n",
       "    </tr>\n",
       "  </tbody>\n",
       "</table>\n",
       "<p>426 rows × 2 columns</p>\n",
       "</div>"
      ],
      "text/plain": [
       "    Sequence_token                                           sequence\n",
       "0              [1]  CGAACTTTAAAATCTGTGTGGCTGTCACTCGGCTGCATGCTTAGTG...\n",
       "1              [2]  TAATTACTGTCGTTGACAGGACACGAGTAACTCGTCTATCTTCTGC...\n",
       "2              [3]  TTGCAGCCGATCATCAGCACATCTAGGTTTCGTCCGGGTGTGACCG...\n",
       "3              [4]  CCTGGTTTCAACGAGAAAACACACGTCCAACTCAGTTTGCCTGTTT...\n",
       "4              [5]  GTGGCTTTGGAGACTCCGTGGAGGAGGTCTTATCAGAGGCACGTCA...\n",
       "..             ...                                                ...\n",
       "421          [422]  CAGACCACACAAGGCAGATGGGCTATATAAACGTTTTCGCTTTTCC...\n",
       "422          [423]  GTGCAGAATGAATTCTCGTAACTACATAGCACAAGTAGATGTAGTT...\n",
       "423          [424]  TTAATCAGTGTGTAACATTAGGGAGGACTTGAAAGAGCCACCACAT...\n",
       "424          [425]  GATCGAGTGTACAGTGAACAATGCTAGGGAGAGCTGCCTATATGGA...\n",
       "425          [426]  TTTAGTAGTGCTATCCCCATGTGATTTTAATAGCTTCTTAGGAGAA...\n",
       "\n",
       "[426 rows x 2 columns]"
      ]
     },
     "execution_count": 6,
     "metadata": {},
     "output_type": "execute_result"
    }
   ],
   "source": [
    "df"
   ]
  },
  {
   "cell_type": "code",
   "execution_count": 7,
   "metadata": {},
   "outputs": [
    {
     "data": {
      "text/plain": [
       "0        [1]\n",
       "1        [2]\n",
       "2        [3]\n",
       "3        [4]\n",
       "4        [5]\n",
       "       ...  \n",
       "421    [422]\n",
       "422    [423]\n",
       "423    [424]\n",
       "424    [425]\n",
       "425    [426]\n",
       "Name: Sequence_token, Length: 426, dtype: object"
      ]
     },
     "execution_count": 7,
     "metadata": {},
     "output_type": "execute_result"
    }
   ],
   "source": [
    "sequences=df[\"Sequence_token\"]\n",
    "sequences"
   ]
  },
  {
   "cell_type": "code",
   "execution_count": 19,
   "metadata": {},
   "outputs": [],
   "source": [
    "features=[]\n",
    "labels=[]\n",
    "training_length=5\n",
    "#len(seq)"
   ]
  },
  {
   "cell_type": "code",
   "execution_count": 20,
   "metadata": {},
   "outputs": [],
   "source": [
    "for seq in sequences:\n",
    "    for i in range(training_length,len(seq)):\n",
    "        extract=seq[i-training_length:i+1]\n",
    "        features.append(extract[:-1])\n",
    "        labels.append(extract[-1])"
   ]
  },
  {
   "cell_type": "code",
   "execution_count": 21,
   "metadata": {},
   "outputs": [
    {
     "data": {
      "text/plain": [
       "[]"
      ]
     },
     "execution_count": 21,
     "metadata": {},
     "output_type": "execute_result"
    }
   ],
   "source": [
    "features"
   ]
  },
  {
   "cell_type": "code",
   "execution_count": 16,
   "metadata": {},
   "outputs": [],
   "source": [
    "features=np.array(features)"
   ]
  },
  {
   "cell_type": "code",
   "execution_count": 17,
   "metadata": {},
   "outputs": [
    {
     "data": {
      "text/plain": [
       "array([], dtype=float64)"
      ]
     },
     "execution_count": 17,
     "metadata": {},
     "output_type": "execute_result"
    }
   ],
   "source": [
    "features"
   ]
  },
  {
   "cell_type": "code",
   "execution_count": 18,
   "metadata": {},
   "outputs": [
    {
     "data": {
      "text/plain": [
       "(0,)"
      ]
     },
     "execution_count": 18,
     "metadata": {},
     "output_type": "execute_result"
    }
   ],
   "source": [
    "features.shape"
   ]
  },
  {
   "cell_type": "code",
   "execution_count": 37,
   "metadata": {},
   "outputs": [
    {
     "name": "stderr",
     "output_type": "stream",
     "text": [
      "[nltk_data] Downloading package punkt to\n",
      "[nltk_data]     C:\\Users\\mukul\\AppData\\Roaming\\nltk_data...\n",
      "[nltk_data]   Unzipping tokenizers\\punkt.zip.\n"
     ]
    },
    {
     "data": {
      "text/plain": [
       "True"
      ]
     },
     "execution_count": 37,
     "metadata": {},
     "output_type": "execute_result"
    }
   ],
   "source": [
    "import nltk\n",
    "nltk.download(('punkt'))"
   ]
  },
  {
   "cell_type": "code",
   "execution_count": 41,
   "metadata": {},
   "outputs": [
    {
     "data": {
      "text/plain": [
       "(426,)"
      ]
     },
     "execution_count": 41,
     "metadata": {},
     "output_type": "execute_result"
    }
   ],
   "source": [
    "sequence=df['sequence']\n",
    "sequence.shape"
   ]
  },
  {
   "cell_type": "code",
   "execution_count": 42,
   "metadata": {},
   "outputs": [],
   "source": [
    "from nltk.tokenize import word_tokenize\n",
    "tokens=word_tokenize(sequence[100][:10])\n"
   ]
  },
  {
   "cell_type": "code",
   "execution_count": 43,
   "metadata": {},
   "outputs": [],
   "source": [
    "vocabulary=set(tokens)"
   ]
  },
  {
   "cell_type": "code",
   "execution_count": 44,
   "metadata": {},
   "outputs": [
    {
     "name": "stdout",
     "output_type": "stream",
     "text": [
      "1\n"
     ]
    }
   ],
   "source": [
    "print(len(vocabulary))"
   ]
  },
  {
   "cell_type": "code",
   "execution_count": 46,
   "metadata": {},
   "outputs": [
    {
     "ename": "SyntaxError",
     "evalue": "invalid syntax (<ipython-input-46-2e803d1d6ea2>, line 3)",
     "output_type": "error",
     "traceback": [
      "\u001b[1;36m  File \u001b[1;32m\"<ipython-input-46-2e803d1d6ea2>\"\u001b[1;36m, line \u001b[1;32m3\u001b[0m\n\u001b[1;33m    [0:50]\u001b[0m\n\u001b[1;37m      ^\u001b[0m\n\u001b[1;31mSyntaxError\u001b[0m\u001b[1;31m:\u001b[0m invalid syntax\n"
     ]
    }
   ],
   "source": []
  },
  {
   "cell_type": "code",
   "execution_count": null,
   "metadata": {},
   "outputs": [],
   "source": []
  }
 ],
 "metadata": {
  "kernelspec": {
   "display_name": "Python 3",
   "language": "python",
   "name": "python3"
  },
  "language_info": {
   "codemirror_mode": {
    "name": "ipython",
    "version": 3
   },
   "file_extension": ".py",
   "mimetype": "text/x-python",
   "name": "python",
   "nbconvert_exporter": "python",
   "pygments_lexer": "ipython3",
   "version": "3.7.4"
  }
 },
 "nbformat": 4,
 "nbformat_minor": 2
}
